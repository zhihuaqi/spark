{
 "cells": [
  {
   "cell_type": "markdown",
   "metadata": {},
   "source": [
    "### Initializing a SparkContext"
   ]
  },
  {
   "cell_type": "code",
   "execution_count": 1,
   "metadata": {},
   "outputs": [],
   "source": [
    "from pyspark import SparkConf, SparkContext\n",
    "conf = SparkConf().setMaster(\"local\").setAppName(\"My App\")\n",
    "sc = SparkContext(conf = conf)"
   ]
  },
  {
   "cell_type": "code",
   "execution_count": 6,
   "metadata": {},
   "outputs": [
    {
     "data": {
      "text/html": [
       "\n",
       "        <div>\n",
       "            <p><b>SparkContext</b></p>\n",
       "\n",
       "            <p><a href=\"http://1bc14d08f3fc:4040\">Spark UI</a></p>\n",
       "\n",
       "            <dl>\n",
       "              <dt>Version</dt>\n",
       "                <dd><code>v2.4.0</code></dd>\n",
       "              <dt>Master</dt>\n",
       "                <dd><code>local</code></dd>\n",
       "              <dt>AppName</dt>\n",
       "                <dd><code>My App</code></dd>\n",
       "            </dl>\n",
       "        </div>\n",
       "        "
      ],
      "text/plain": [
       "<SparkContext master=local appName=My App>"
      ]
     },
     "execution_count": 6,
     "metadata": {},
     "output_type": "execute_result"
    }
   ],
   "source": [
    "sc"
   ]
  },
  {
   "cell_type": "code",
   "execution_count": 7,
   "metadata": {},
   "outputs": [
    {
     "data": {
      "text/plain": [
       "6"
      ]
     },
     "execution_count": 7,
     "metadata": {},
     "output_type": "execute_result"
    }
   ],
   "source": [
    "lines = sc.textFile('../Readme.md')\n",
    "lines.count()"
   ]
  },
  {
   "cell_type": "code",
   "execution_count": 9,
   "metadata": {},
   "outputs": [
    {
     "data": {
      "text/plain": [
       "'### Exploration using Spark on interactive analysis'"
      ]
     },
     "execution_count": 9,
     "metadata": {},
     "output_type": "execute_result"
    }
   ],
   "source": [
    "lines.first()"
   ]
  },
  {
   "cell_type": "code",
   "execution_count": 14,
   "metadata": {},
   "outputs": [
    {
     "data": {
      "text/plain": [
       "1"
      ]
     },
     "execution_count": 14,
     "metadata": {},
     "output_type": "execute_result"
    }
   ],
   "source": [
    "filterLines = lines.filter(lambda line: \"Docker\" in line)\n",
    "filterLines.count()"
   ]
  },
  {
   "cell_type": "code",
   "execution_count": 14,
   "metadata": {},
   "outputs": [],
   "source": [
    "# Reading the file-\n",
    "myTextFile = sc.textFile(\"../data/README.md\")"
   ]
  },
  {
   "cell_type": "code",
   "execution_count": 15,
   "metadata": {},
   "outputs": [],
   "source": [
    "# Removing the empty lines-\n",
    "non_emptyLines = myTextFile.filter(lambda line: len(line) > 0)"
   ]
  },
  {
   "cell_type": "code",
   "execution_count": 16,
   "metadata": {},
   "outputs": [],
   "source": [
    "# Return a new RDD \"words\" by first applying \"split()\" function to all elements of this RDD, and then flattening the results.\n",
    "words = non_emptyLines.flatMap(lambda x: x.split(' '))"
   ]
  },
  {
   "cell_type": "code",
   "execution_count": 17,
   "metadata": {},
   "outputs": [
    {
     "data": {
      "text/plain": [
       "65"
      ]
     },
     "execution_count": 17,
     "metadata": {},
     "output_type": "execute_result"
    }
   ],
   "source": [
    "non_emptyLines.count()"
   ]
  },
  {
   "cell_type": "code",
   "execution_count": 20,
   "metadata": {},
   "outputs": [
    {
     "data": {
      "text/plain": [
       "'#'"
      ]
     },
     "execution_count": 20,
     "metadata": {},
     "output_type": "execute_result"
    }
   ],
   "source": [
    "words.first()"
   ]
  },
  {
   "cell_type": "code",
   "execution_count": 21,
   "metadata": {},
   "outputs": [],
   "source": [
    "# Executing three different functions-\n",
    "# a) .map() - it takes each line of the rdd \"words\" which is now a list of words, then creates a tuple like ('apple', 1) etc.\n",
    "# b) .reduceByKey() - it merges the values for each key using an associative and commutative reduce function. e.g. ('apple', 5) etc.\n",
    "# c) .map() - It just change the position on the tupple as (5, 'apple') and sorts the key descending\n",
    "wordCount = words.map(lambda x: (x, 1)).reduceByKey(lambda x, y : x + y).map(lambda x: (x[1], x[0])).sortByKey(False)"
   ]
  },
  {
   "cell_type": "code",
   "execution_count": 22,
   "metadata": {},
   "outputs": [],
   "source": [
    "# Save this RDD as a text file, using string representations of elements.\n",
    "# Note: It creates part-00000, part-00001 ... files which shows how the job has been performed across multiple partions (executor nodes)\n",
    "wordCount.saveAsTextFile(\"wordCountResult\")"
   ]
  },
  {
   "cell_type": "code",
   "execution_count": 23,
   "metadata": {},
   "outputs": [],
   "source": [
    "# To make this as a single file, you can just repartion it using coalesce(). \n",
    "# It returns a new RDD that is reduced into `numPartitions` partitions.\n",
    "wordCount.coalesce(1).saveAsTextFile(\"wordCountResult2\")"
   ]
  },
  {
   "cell_type": "code",
   "execution_count": 24,
   "metadata": {},
   "outputs": [],
   "source": [
    "sc.stop()"
   ]
  },
  {
   "cell_type": "markdown",
   "metadata": {},
   "source": [
    "### Transformation"
   ]
  },
  {
   "cell_type": "code",
   "execution_count": 25,
   "metadata": {},
   "outputs": [],
   "source": [
    "# Creating Spark Configuration and Spark Context-\n",
    "\n",
    "from pyspark import SparkContext, SparkConf\n",
    "conf = SparkConf().setAppName(\"My Dataframe\")\n",
    "sc = SparkContext(conf = conf)"
   ]
  },
  {
   "cell_type": "code",
   "execution_count": 26,
   "metadata": {},
   "outputs": [],
   "source": [
    "from pyspark.sql import SparkSession # To work with dataframe we need pyspark.sql\n",
    "spark = SparkSession(sc) # passing Spark Context to SQL module"
   ]
  },
  {
   "cell_type": "code",
   "execution_count": 27,
   "metadata": {},
   "outputs": [],
   "source": [
    "# myRange is a Spark DataFrame with one column containing 1,000 rows with values from 0 to 999.\n",
    "# When run on a cluster, each part of this range of numbers exists on a different executor.\n",
    "myRange = spark.range(1000).toDF(\"number\")"
   ]
  },
  {
   "cell_type": "code",
   "execution_count": 28,
   "metadata": {},
   "outputs": [],
   "source": [
    "# Let's perform a transformation-\n",
    "divisBy2 = myRange.where(\"number % 2 = 0\") # `where` is an alias for :func:`filter`."
   ]
  },
  {
   "cell_type": "code",
   "execution_count": 34,
   "metadata": {},
   "outputs": [
    {
     "name": "stdout",
     "output_type": "stream",
     "text": [
      "+------+\n",
      "|number|\n",
      "+------+\n",
      "|     0|\n",
      "|     1|\n",
      "+------+\n",
      "only showing top 2 rows\n",
      "\n"
     ]
    }
   ],
   "source": [
    "# shows the first two records of the dataframe\n",
    "myRange.show(2)"
   ]
  },
  {
   "cell_type": "code",
   "execution_count": 38,
   "metadata": {},
   "outputs": [
    {
     "data": {
      "text/plain": [
       "500"
      ]
     },
     "execution_count": 38,
     "metadata": {},
     "output_type": "execute_result"
    }
   ],
   "source": [
    "# gives total number of records in the dataframe\n",
    "divisBy2.count()"
   ]
  },
  {
   "cell_type": "code",
   "execution_count": 39,
   "metadata": {},
   "outputs": [
    {
     "data": {
      "text/plain": [
       "[Row(number=0),\n",
       " Row(number=2),\n",
       " Row(number=4),\n",
       " Row(number=6),\n",
       " Row(number=8),\n",
       " Row(number=10),\n",
       " Row(number=12),\n",
       " Row(number=14),\n",
       " Row(number=16),\n",
       " Row(number=18),\n",
       " Row(number=20),\n",
       " Row(number=22),\n",
       " Row(number=24),\n",
       " Row(number=26),\n",
       " Row(number=28),\n",
       " Row(number=30),\n",
       " Row(number=32),\n",
       " Row(number=34),\n",
       " Row(number=36),\n",
       " Row(number=38),\n",
       " Row(number=40),\n",
       " Row(number=42),\n",
       " Row(number=44),\n",
       " Row(number=46),\n",
       " Row(number=48),\n",
       " Row(number=50),\n",
       " Row(number=52),\n",
       " Row(number=54),\n",
       " Row(number=56),\n",
       " Row(number=58),\n",
       " Row(number=60),\n",
       " Row(number=62),\n",
       " Row(number=64),\n",
       " Row(number=66),\n",
       " Row(number=68),\n",
       " Row(number=70),\n",
       " Row(number=72),\n",
       " Row(number=74),\n",
       " Row(number=76),\n",
       " Row(number=78),\n",
       " Row(number=80),\n",
       " Row(number=82),\n",
       " Row(number=84),\n",
       " Row(number=86),\n",
       " Row(number=88),\n",
       " Row(number=90),\n",
       " Row(number=92),\n",
       " Row(number=94),\n",
       " Row(number=96),\n",
       " Row(number=98),\n",
       " Row(number=100),\n",
       " Row(number=102),\n",
       " Row(number=104),\n",
       " Row(number=106),\n",
       " Row(number=108),\n",
       " Row(number=110),\n",
       " Row(number=112),\n",
       " Row(number=114),\n",
       " Row(number=116),\n",
       " Row(number=118),\n",
       " Row(number=120),\n",
       " Row(number=122),\n",
       " Row(number=124),\n",
       " Row(number=126),\n",
       " Row(number=128),\n",
       " Row(number=130),\n",
       " Row(number=132),\n",
       " Row(number=134),\n",
       " Row(number=136),\n",
       " Row(number=138),\n",
       " Row(number=140),\n",
       " Row(number=142),\n",
       " Row(number=144),\n",
       " Row(number=146),\n",
       " Row(number=148),\n",
       " Row(number=150),\n",
       " Row(number=152),\n",
       " Row(number=154),\n",
       " Row(number=156),\n",
       " Row(number=158),\n",
       " Row(number=160),\n",
       " Row(number=162),\n",
       " Row(number=164),\n",
       " Row(number=166),\n",
       " Row(number=168),\n",
       " Row(number=170),\n",
       " Row(number=172),\n",
       " Row(number=174),\n",
       " Row(number=176),\n",
       " Row(number=178),\n",
       " Row(number=180),\n",
       " Row(number=182),\n",
       " Row(number=184),\n",
       " Row(number=186),\n",
       " Row(number=188),\n",
       " Row(number=190),\n",
       " Row(number=192),\n",
       " Row(number=194),\n",
       " Row(number=196),\n",
       " Row(number=198),\n",
       " Row(number=200),\n",
       " Row(number=202),\n",
       " Row(number=204),\n",
       " Row(number=206),\n",
       " Row(number=208),\n",
       " Row(number=210),\n",
       " Row(number=212),\n",
       " Row(number=214),\n",
       " Row(number=216),\n",
       " Row(number=218),\n",
       " Row(number=220),\n",
       " Row(number=222),\n",
       " Row(number=224),\n",
       " Row(number=226),\n",
       " Row(number=228),\n",
       " Row(number=230),\n",
       " Row(number=232),\n",
       " Row(number=234),\n",
       " Row(number=236),\n",
       " Row(number=238),\n",
       " Row(number=240),\n",
       " Row(number=242),\n",
       " Row(number=244),\n",
       " Row(number=246),\n",
       " Row(number=248),\n",
       " Row(number=250),\n",
       " Row(number=252),\n",
       " Row(number=254),\n",
       " Row(number=256),\n",
       " Row(number=258),\n",
       " Row(number=260),\n",
       " Row(number=262),\n",
       " Row(number=264),\n",
       " Row(number=266),\n",
       " Row(number=268),\n",
       " Row(number=270),\n",
       " Row(number=272),\n",
       " Row(number=274),\n",
       " Row(number=276),\n",
       " Row(number=278),\n",
       " Row(number=280),\n",
       " Row(number=282),\n",
       " Row(number=284),\n",
       " Row(number=286),\n",
       " Row(number=288),\n",
       " Row(number=290),\n",
       " Row(number=292),\n",
       " Row(number=294),\n",
       " Row(number=296),\n",
       " Row(number=298),\n",
       " Row(number=300),\n",
       " Row(number=302),\n",
       " Row(number=304),\n",
       " Row(number=306),\n",
       " Row(number=308),\n",
       " Row(number=310),\n",
       " Row(number=312),\n",
       " Row(number=314),\n",
       " Row(number=316),\n",
       " Row(number=318),\n",
       " Row(number=320),\n",
       " Row(number=322),\n",
       " Row(number=324),\n",
       " Row(number=326),\n",
       " Row(number=328),\n",
       " Row(number=330),\n",
       " Row(number=332),\n",
       " Row(number=334),\n",
       " Row(number=336),\n",
       " Row(number=338),\n",
       " Row(number=340),\n",
       " Row(number=342),\n",
       " Row(number=344),\n",
       " Row(number=346),\n",
       " Row(number=348),\n",
       " Row(number=350),\n",
       " Row(number=352),\n",
       " Row(number=354),\n",
       " Row(number=356),\n",
       " Row(number=358),\n",
       " Row(number=360),\n",
       " Row(number=362),\n",
       " Row(number=364),\n",
       " Row(number=366),\n",
       " Row(number=368),\n",
       " Row(number=370),\n",
       " Row(number=372),\n",
       " Row(number=374),\n",
       " Row(number=376),\n",
       " Row(number=378),\n",
       " Row(number=380),\n",
       " Row(number=382),\n",
       " Row(number=384),\n",
       " Row(number=386),\n",
       " Row(number=388),\n",
       " Row(number=390),\n",
       " Row(number=392),\n",
       " Row(number=394),\n",
       " Row(number=396),\n",
       " Row(number=398),\n",
       " Row(number=400),\n",
       " Row(number=402),\n",
       " Row(number=404),\n",
       " Row(number=406),\n",
       " Row(number=408),\n",
       " Row(number=410),\n",
       " Row(number=412),\n",
       " Row(number=414),\n",
       " Row(number=416),\n",
       " Row(number=418),\n",
       " Row(number=420),\n",
       " Row(number=422),\n",
       " Row(number=424),\n",
       " Row(number=426),\n",
       " Row(number=428),\n",
       " Row(number=430),\n",
       " Row(number=432),\n",
       " Row(number=434),\n",
       " Row(number=436),\n",
       " Row(number=438),\n",
       " Row(number=440),\n",
       " Row(number=442),\n",
       " Row(number=444),\n",
       " Row(number=446),\n",
       " Row(number=448),\n",
       " Row(number=450),\n",
       " Row(number=452),\n",
       " Row(number=454),\n",
       " Row(number=456),\n",
       " Row(number=458),\n",
       " Row(number=460),\n",
       " Row(number=462),\n",
       " Row(number=464),\n",
       " Row(number=466),\n",
       " Row(number=468),\n",
       " Row(number=470),\n",
       " Row(number=472),\n",
       " Row(number=474),\n",
       " Row(number=476),\n",
       " Row(number=478),\n",
       " Row(number=480),\n",
       " Row(number=482),\n",
       " Row(number=484),\n",
       " Row(number=486),\n",
       " Row(number=488),\n",
       " Row(number=490),\n",
       " Row(number=492),\n",
       " Row(number=494),\n",
       " Row(number=496),\n",
       " Row(number=498),\n",
       " Row(number=500),\n",
       " Row(number=502),\n",
       " Row(number=504),\n",
       " Row(number=506),\n",
       " Row(number=508),\n",
       " Row(number=510),\n",
       " Row(number=512),\n",
       " Row(number=514),\n",
       " Row(number=516),\n",
       " Row(number=518),\n",
       " Row(number=520),\n",
       " Row(number=522),\n",
       " Row(number=524),\n",
       " Row(number=526),\n",
       " Row(number=528),\n",
       " Row(number=530),\n",
       " Row(number=532),\n",
       " Row(number=534),\n",
       " Row(number=536),\n",
       " Row(number=538),\n",
       " Row(number=540),\n",
       " Row(number=542),\n",
       " Row(number=544),\n",
       " Row(number=546),\n",
       " Row(number=548),\n",
       " Row(number=550),\n",
       " Row(number=552),\n",
       " Row(number=554),\n",
       " Row(number=556),\n",
       " Row(number=558),\n",
       " Row(number=560),\n",
       " Row(number=562),\n",
       " Row(number=564),\n",
       " Row(number=566),\n",
       " Row(number=568),\n",
       " Row(number=570),\n",
       " Row(number=572),\n",
       " Row(number=574),\n",
       " Row(number=576),\n",
       " Row(number=578),\n",
       " Row(number=580),\n",
       " Row(number=582),\n",
       " Row(number=584),\n",
       " Row(number=586),\n",
       " Row(number=588),\n",
       " Row(number=590),\n",
       " Row(number=592),\n",
       " Row(number=594),\n",
       " Row(number=596),\n",
       " Row(number=598),\n",
       " Row(number=600),\n",
       " Row(number=602),\n",
       " Row(number=604),\n",
       " Row(number=606),\n",
       " Row(number=608),\n",
       " Row(number=610),\n",
       " Row(number=612),\n",
       " Row(number=614),\n",
       " Row(number=616),\n",
       " Row(number=618),\n",
       " Row(number=620),\n",
       " Row(number=622),\n",
       " Row(number=624),\n",
       " Row(number=626),\n",
       " Row(number=628),\n",
       " Row(number=630),\n",
       " Row(number=632),\n",
       " Row(number=634),\n",
       " Row(number=636),\n",
       " Row(number=638),\n",
       " Row(number=640),\n",
       " Row(number=642),\n",
       " Row(number=644),\n",
       " Row(number=646),\n",
       " Row(number=648),\n",
       " Row(number=650),\n",
       " Row(number=652),\n",
       " Row(number=654),\n",
       " Row(number=656),\n",
       " Row(number=658),\n",
       " Row(number=660),\n",
       " Row(number=662),\n",
       " Row(number=664),\n",
       " Row(number=666),\n",
       " Row(number=668),\n",
       " Row(number=670),\n",
       " Row(number=672),\n",
       " Row(number=674),\n",
       " Row(number=676),\n",
       " Row(number=678),\n",
       " Row(number=680),\n",
       " Row(number=682),\n",
       " Row(number=684),\n",
       " Row(number=686),\n",
       " Row(number=688),\n",
       " Row(number=690),\n",
       " Row(number=692),\n",
       " Row(number=694),\n",
       " Row(number=696),\n",
       " Row(number=698),\n",
       " Row(number=700),\n",
       " Row(number=702),\n",
       " Row(number=704),\n",
       " Row(number=706),\n",
       " Row(number=708),\n",
       " Row(number=710),\n",
       " Row(number=712),\n",
       " Row(number=714),\n",
       " Row(number=716),\n",
       " Row(number=718),\n",
       " Row(number=720),\n",
       " Row(number=722),\n",
       " Row(number=724),\n",
       " Row(number=726),\n",
       " Row(number=728),\n",
       " Row(number=730),\n",
       " Row(number=732),\n",
       " Row(number=734),\n",
       " Row(number=736),\n",
       " Row(number=738),\n",
       " Row(number=740),\n",
       " Row(number=742),\n",
       " Row(number=744),\n",
       " Row(number=746),\n",
       " Row(number=748),\n",
       " Row(number=750),\n",
       " Row(number=752),\n",
       " Row(number=754),\n",
       " Row(number=756),\n",
       " Row(number=758),\n",
       " Row(number=760),\n",
       " Row(number=762),\n",
       " Row(number=764),\n",
       " Row(number=766),\n",
       " Row(number=768),\n",
       " Row(number=770),\n",
       " Row(number=772),\n",
       " Row(number=774),\n",
       " Row(number=776),\n",
       " Row(number=778),\n",
       " Row(number=780),\n",
       " Row(number=782),\n",
       " Row(number=784),\n",
       " Row(number=786),\n",
       " Row(number=788),\n",
       " Row(number=790),\n",
       " Row(number=792),\n",
       " Row(number=794),\n",
       " Row(number=796),\n",
       " Row(number=798),\n",
       " Row(number=800),\n",
       " Row(number=802),\n",
       " Row(number=804),\n",
       " Row(number=806),\n",
       " Row(number=808),\n",
       " Row(number=810),\n",
       " Row(number=812),\n",
       " Row(number=814),\n",
       " Row(number=816),\n",
       " Row(number=818),\n",
       " Row(number=820),\n",
       " Row(number=822),\n",
       " Row(number=824),\n",
       " Row(number=826),\n",
       " Row(number=828),\n",
       " Row(number=830),\n",
       " Row(number=832),\n",
       " Row(number=834),\n",
       " Row(number=836),\n",
       " Row(number=838),\n",
       " Row(number=840),\n",
       " Row(number=842),\n",
       " Row(number=844),\n",
       " Row(number=846),\n",
       " Row(number=848),\n",
       " Row(number=850),\n",
       " Row(number=852),\n",
       " Row(number=854),\n",
       " Row(number=856),\n",
       " Row(number=858),\n",
       " Row(number=860),\n",
       " Row(number=862),\n",
       " Row(number=864),\n",
       " Row(number=866),\n",
       " Row(number=868),\n",
       " Row(number=870),\n",
       " Row(number=872),\n",
       " Row(number=874),\n",
       " Row(number=876),\n",
       " Row(number=878),\n",
       " Row(number=880),\n",
       " Row(number=882),\n",
       " Row(number=884),\n",
       " Row(number=886),\n",
       " Row(number=888),\n",
       " Row(number=890),\n",
       " Row(number=892),\n",
       " Row(number=894),\n",
       " Row(number=896),\n",
       " Row(number=898),\n",
       " Row(number=900),\n",
       " Row(number=902),\n",
       " Row(number=904),\n",
       " Row(number=906),\n",
       " Row(number=908),\n",
       " Row(number=910),\n",
       " Row(number=912),\n",
       " Row(number=914),\n",
       " Row(number=916),\n",
       " Row(number=918),\n",
       " Row(number=920),\n",
       " Row(number=922),\n",
       " Row(number=924),\n",
       " Row(number=926),\n",
       " Row(number=928),\n",
       " Row(number=930),\n",
       " Row(number=932),\n",
       " Row(number=934),\n",
       " Row(number=936),\n",
       " Row(number=938),\n",
       " Row(number=940),\n",
       " Row(number=942),\n",
       " Row(number=944),\n",
       " Row(number=946),\n",
       " Row(number=948),\n",
       " Row(number=950),\n",
       " Row(number=952),\n",
       " Row(number=954),\n",
       " Row(number=956),\n",
       " Row(number=958),\n",
       " Row(number=960),\n",
       " Row(number=962),\n",
       " Row(number=964),\n",
       " Row(number=966),\n",
       " Row(number=968),\n",
       " Row(number=970),\n",
       " Row(number=972),\n",
       " Row(number=974),\n",
       " Row(number=976),\n",
       " Row(number=978),\n",
       " Row(number=980),\n",
       " Row(number=982),\n",
       " Row(number=984),\n",
       " Row(number=986),\n",
       " Row(number=988),\n",
       " Row(number=990),\n",
       " Row(number=992),\n",
       " Row(number=994),\n",
       " Row(number=996),\n",
       " Row(number=998)]"
      ]
     },
     "execution_count": 39,
     "metadata": {},
     "output_type": "execute_result"
    }
   ],
   "source": [
    "# Returns all the records as a list\n",
    "divisBy2.collect()"
   ]
  },
  {
   "cell_type": "code",
   "execution_count": null,
   "metadata": {},
   "outputs": [],
   "source": []
  }
 ],
 "metadata": {
  "kernelspec": {
   "display_name": "Python 3",
   "language": "python",
   "name": "python3"
  },
  "language_info": {
   "codemirror_mode": {
    "name": "ipython",
    "version": 3
   },
   "file_extension": ".py",
   "mimetype": "text/x-python",
   "name": "python",
   "nbconvert_exporter": "python",
   "pygments_lexer": "ipython3",
   "version": "3.7.1"
  }
 },
 "nbformat": 4,
 "nbformat_minor": 2
}
